{
 "cells": [
  {
   "cell_type": "code",
   "execution_count": 1,
   "id": "28beb797",
   "metadata": {},
   "outputs": [],
   "source": [
    "import pandas as pd\n",
    "import numpy as np\n",
    "from sklearn.preprocessing import OneHotEncoder,MinMaxScaler"
   ]
  },
  {
   "cell_type": "code",
   "execution_count": 2,
   "id": "9d0b71a2",
   "metadata": {},
   "outputs": [],
   "source": [
    "airlineData=pd.read_csv('airline_satisfaction.csv')"
   ]
  },
  {
   "cell_type": "code",
   "execution_count": 3,
   "id": "3c96c206",
   "metadata": {},
   "outputs": [
    {
     "data": {
      "text/plain": [
       "Unnamed: 0                             0\n",
       "Gender                                 0\n",
       "customer_type                          0\n",
       "age                                    0\n",
       "type_of_travel                         0\n",
       "customer_class                         0\n",
       "flight_distance                        0\n",
       "inflight_wifi_service                  0\n",
       "departure_arrival_time_convenient      0\n",
       "ease_of_online_booking                 0\n",
       "gate_location                          0\n",
       "food_and_drink                         0\n",
       "online_boarding                        0\n",
       "seat_comfort                           0\n",
       "inflight_entertainment                 0\n",
       "onboard_service                        0\n",
       "leg_room_service                       0\n",
       "baggage_handling                       0\n",
       "checkin_service                        0\n",
       "inflight_service                       0\n",
       "cleanliness                            0\n",
       "departure_delay_in_minutes             0\n",
       "arrival_delay_in_minutes             393\n",
       "satisfaction                           0\n",
       "dtype: int64"
      ]
     },
     "execution_count": 3,
     "metadata": {},
     "output_type": "execute_result"
    }
   ],
   "source": [
    "airlineData.isna().sum()"
   ]
  },
  {
   "cell_type": "code",
   "execution_count": 4,
   "id": "2d6b8620",
   "metadata": {},
   "outputs": [],
   "source": [
    "airlineData.dropna(how=\"any\", axis=1, inplace=True)"
   ]
  },
  {
   "cell_type": "markdown",
   "id": "97bb907c",
   "metadata": {},
   "source": [
    "# Removing unnecesary column"
   ]
  },
  {
   "cell_type": "code",
   "execution_count": 5,
   "id": "b228e931",
   "metadata": {},
   "outputs": [],
   "source": [
    "airlineData.drop(['Unnamed: 0'],axis=1,inplace =True)"
   ]
  },
  {
   "cell_type": "code",
   "execution_count": 6,
   "id": "a068733b",
   "metadata": {},
   "outputs": [],
   "source": [
    "x=airlineData.drop(['satisfaction'],axis=1)\n",
    "y=airlineData[['satisfaction']]"
   ]
  },
  {
   "cell_type": "code",
   "execution_count": 7,
   "id": "3665ecd6",
   "metadata": {},
   "outputs": [],
   "source": [
    "from sklearn.model_selection import train_test_split\n",
    "x_train,x_test,y_train,y_test=train_test_split(x,y,test_size=0.2,stratify=y,random_state=100)"
   ]
  },
  {
   "cell_type": "code",
   "execution_count": 8,
   "id": "ffd87142",
   "metadata": {},
   "outputs": [],
   "source": [
    "airlineDataTrainCat=x_train.select_dtypes(object)\n",
    "airlineDataTrainNum=x_train.select_dtypes(np.number)"
   ]
  },
  {
   "cell_type": "code",
   "execution_count": 9,
   "id": "69cbb03f",
   "metadata": {},
   "outputs": [
    {
     "data": {
      "text/html": [
       "<div>\n",
       "<style scoped>\n",
       "    .dataframe tbody tr th:only-of-type {\n",
       "        vertical-align: middle;\n",
       "    }\n",
       "\n",
       "    .dataframe tbody tr th {\n",
       "        vertical-align: top;\n",
       "    }\n",
       "\n",
       "    .dataframe thead th {\n",
       "        text-align: right;\n",
       "    }\n",
       "</style>\n",
       "<table border=\"1\" class=\"dataframe\">\n",
       "  <thead>\n",
       "    <tr style=\"text-align: right;\">\n",
       "      <th></th>\n",
       "      <th>Gender</th>\n",
       "      <th>customer_type</th>\n",
       "      <th>type_of_travel</th>\n",
       "      <th>customer_class</th>\n",
       "    </tr>\n",
       "  </thead>\n",
       "  <tbody>\n",
       "    <tr>\n",
       "      <th>25875</th>\n",
       "      <td>Male</td>\n",
       "      <td>Loyal Customer</td>\n",
       "      <td>Personal Travel</td>\n",
       "      <td>Eco</td>\n",
       "    </tr>\n",
       "    <tr>\n",
       "      <th>101252</th>\n",
       "      <td>Female</td>\n",
       "      <td>Loyal Customer</td>\n",
       "      <td>Personal Travel</td>\n",
       "      <td>Eco</td>\n",
       "    </tr>\n",
       "    <tr>\n",
       "      <th>44748</th>\n",
       "      <td>Male</td>\n",
       "      <td>Loyal Customer</td>\n",
       "      <td>Personal Travel</td>\n",
       "      <td>Eco</td>\n",
       "    </tr>\n",
       "    <tr>\n",
       "      <th>120651</th>\n",
       "      <td>Female</td>\n",
       "      <td>disloyal Customer</td>\n",
       "      <td>Business travel</td>\n",
       "      <td>Business</td>\n",
       "    </tr>\n",
       "    <tr>\n",
       "      <th>97265</th>\n",
       "      <td>Female</td>\n",
       "      <td>Loyal Customer</td>\n",
       "      <td>Personal Travel</td>\n",
       "      <td>Eco</td>\n",
       "    </tr>\n",
       "    <tr>\n",
       "      <th>...</th>\n",
       "      <td>...</td>\n",
       "      <td>...</td>\n",
       "      <td>...</td>\n",
       "      <td>...</td>\n",
       "    </tr>\n",
       "    <tr>\n",
       "      <th>112272</th>\n",
       "      <td>Female</td>\n",
       "      <td>Loyal Customer</td>\n",
       "      <td>Business travel</td>\n",
       "      <td>Business</td>\n",
       "    </tr>\n",
       "    <tr>\n",
       "      <th>98095</th>\n",
       "      <td>Male</td>\n",
       "      <td>Loyal Customer</td>\n",
       "      <td>Personal Travel</td>\n",
       "      <td>Eco</td>\n",
       "    </tr>\n",
       "    <tr>\n",
       "      <th>68436</th>\n",
       "      <td>Male</td>\n",
       "      <td>Loyal Customer</td>\n",
       "      <td>Business travel</td>\n",
       "      <td>Eco</td>\n",
       "    </tr>\n",
       "    <tr>\n",
       "      <th>49537</th>\n",
       "      <td>Female</td>\n",
       "      <td>Loyal Customer</td>\n",
       "      <td>Personal Travel</td>\n",
       "      <td>Eco</td>\n",
       "    </tr>\n",
       "    <tr>\n",
       "      <th>69071</th>\n",
       "      <td>Male</td>\n",
       "      <td>disloyal Customer</td>\n",
       "      <td>Business travel</td>\n",
       "      <td>Eco</td>\n",
       "    </tr>\n",
       "  </tbody>\n",
       "</table>\n",
       "<p>103904 rows × 4 columns</p>\n",
       "</div>"
      ],
      "text/plain": [
       "        Gender      customer_type   type_of_travel customer_class\n",
       "25875     Male     Loyal Customer  Personal Travel            Eco\n",
       "101252  Female     Loyal Customer  Personal Travel            Eco\n",
       "44748     Male     Loyal Customer  Personal Travel            Eco\n",
       "120651  Female  disloyal Customer  Business travel       Business\n",
       "97265   Female     Loyal Customer  Personal Travel            Eco\n",
       "...        ...                ...              ...            ...\n",
       "112272  Female     Loyal Customer  Business travel       Business\n",
       "98095     Male     Loyal Customer  Personal Travel            Eco\n",
       "68436     Male     Loyal Customer  Business travel            Eco\n",
       "49537   Female     Loyal Customer  Personal Travel            Eco\n",
       "69071     Male  disloyal Customer  Business travel            Eco\n",
       "\n",
       "[103904 rows x 4 columns]"
      ]
     },
     "execution_count": 9,
     "metadata": {},
     "output_type": "execute_result"
    }
   ],
   "source": [
    "airlineDataTrainCat"
   ]
  },
  {
   "cell_type": "code",
   "execution_count": 10,
   "id": "07a85d73",
   "metadata": {},
   "outputs": [],
   "source": [
    "oneHot=OneHotEncoder()"
   ]
  },
  {
   "cell_type": "code",
   "execution_count": 11,
   "id": "b0da984e",
   "metadata": {},
   "outputs": [
    {
     "data": {
      "text/plain": [
       "OneHotEncoder()"
      ]
     },
     "execution_count": 11,
     "metadata": {},
     "output_type": "execute_result"
    }
   ],
   "source": [
    "oneHot.fit(airlineDataTrainCat)"
   ]
  },
  {
   "cell_type": "code",
   "execution_count": 12,
   "id": "a7653d53",
   "metadata": {},
   "outputs": [],
   "source": [
    "airlineDataTrainCatEncoded=oneHot.transform(airlineDataTrainCat).toarray()\n"
   ]
  },
  {
   "cell_type": "code",
   "execution_count": 13,
   "id": "bed30b18",
   "metadata": {},
   "outputs": [],
   "source": [
    "airlineDataTrainNum=x_train.select_dtypes(np.number)"
   ]
  },
  {
   "cell_type": "code",
   "execution_count": 15,
   "id": "36f4c705",
   "metadata": {},
   "outputs": [
    {
     "data": {
      "text/plain": [
       "age                                  0\n",
       "flight_distance                      0\n",
       "inflight_wifi_service                0\n",
       "departure_arrival_time_convenient    0\n",
       "ease_of_online_booking               0\n",
       "gate_location                        0\n",
       "food_and_drink                       0\n",
       "online_boarding                      0\n",
       "seat_comfort                         0\n",
       "inflight_entertainment               0\n",
       "onboard_service                      0\n",
       "leg_room_service                     0\n",
       "baggage_handling                     0\n",
       "checkin_service                      0\n",
       "inflight_service                     0\n",
       "cleanliness                          0\n",
       "departure_delay_in_minutes           0\n",
       "dtype: int64"
      ]
     },
     "execution_count": 15,
     "metadata": {},
     "output_type": "execute_result"
    }
   ],
   "source": [
    "airlineDataTrainNum.isna().sum()"
   ]
  },
  {
   "cell_type": "code",
   "execution_count": 15,
   "id": "4bb866cb",
   "metadata": {},
   "outputs": [],
   "source": [
    "minMax=MinMaxScaler()"
   ]
  },
  {
   "cell_type": "code",
   "execution_count": 16,
   "id": "0a5a01d4",
   "metadata": {},
   "outputs": [
    {
     "data": {
      "text/plain": [
       "MinMaxScaler()"
      ]
     },
     "execution_count": 16,
     "metadata": {},
     "output_type": "execute_result"
    }
   ],
   "source": [
    "minMax.fit(airlineDataTrainNum)                                                   "
   ]
  },
  {
   "cell_type": "code",
   "execution_count": 17,
   "id": "7f0dbbe5",
   "metadata": {},
   "outputs": [],
   "source": [
    "airlineDataTrainNumScaled=minMax.transform(airlineDataTrainNum)"
   ]
  },
  {
   "cell_type": "code",
   "execution_count": 18,
   "id": "06023060",
   "metadata": {},
   "outputs": [],
   "source": [
    "trainDataFinal=np.concatenate([airlineDataTrainCatEncoded,airlineDataTrainNumScaled],axis=1)"
   ]
  },
  {
   "cell_type": "markdown",
   "id": "3a5415cf",
   "metadata": {},
   "source": [
    "# Processing Target Variable"
   ]
  },
  {
   "cell_type": "code",
   "execution_count": 19,
   "id": "1f43426c",
   "metadata": {},
   "outputs": [],
   "source": [
    "from sklearn.preprocessing import LabelBinarizer"
   ]
  },
  {
   "cell_type": "code",
   "execution_count": 20,
   "id": "ea355b80",
   "metadata": {},
   "outputs": [],
   "source": [
    "lb=LabelBinarizer()"
   ]
  },
  {
   "cell_type": "code",
   "execution_count": 21,
   "id": "501ca194",
   "metadata": {},
   "outputs": [],
   "source": [
    "y_train=lb.fit_transform(y_train)"
   ]
  },
  {
   "cell_type": "markdown",
   "id": "db5ff32b",
   "metadata": {},
   "source": [
    "# Building Models"
   ]
  },
  {
   "cell_type": "code",
   "execution_count": 22,
   "id": "d3f117c7",
   "metadata": {},
   "outputs": [],
   "source": [
    "from sklearn.linear_model import LogisticRegression\n",
    "from sklearn.tree import DecisionTreeClassifier\n",
    "from sklearn.ensemble import BaggingClassifier, AdaBoostClassifier, RandomForestClassifier"
   ]
  },
  {
   "cell_type": "code",
   "execution_count": 23,
   "id": "1e9db04e",
   "metadata": {},
   "outputs": [],
   "source": [
    "lr = LogisticRegression()\n",
    "dt = DecisionTreeClassifier()\n",
    "bg = BaggingClassifier()\n",
    "adb = AdaBoostClassifier()\n",
    "rf = RandomForestClassifier()"
   ]
  },
  {
   "cell_type": "code",
   "execution_count": 24,
   "id": "71abd421",
   "metadata": {},
   "outputs": [
    {
     "name": "stderr",
     "output_type": "stream",
     "text": [
      "C:\\Users\\mrawe\\anaconda3\\envs\\TEST\\lib\\site-packages\\sklearn\\utils\\validation.py:63: DataConversionWarning: A column-vector y was passed when a 1d array was expected. Please change the shape of y to (n_samples, ), for example using ravel().\n",
      "  return f(*args, **kwargs)\n",
      "C:\\Users\\mrawe\\anaconda3\\envs\\TEST\\lib\\site-packages\\sklearn\\linear_model\\_logistic.py:763: ConvergenceWarning: lbfgs failed to converge (status=1):\n",
      "STOP: TOTAL NO. of ITERATIONS REACHED LIMIT.\n",
      "\n",
      "Increase the number of iterations (max_iter) or scale the data as shown in:\n",
      "    https://scikit-learn.org/stable/modules/preprocessing.html\n",
      "Please also refer to the documentation for alternative solver options:\n",
      "    https://scikit-learn.org/stable/modules/linear_model.html#logistic-regression\n",
      "  n_iter_i = _check_optimize_result(\n",
      "C:\\Users\\mrawe\\anaconda3\\envs\\TEST\\lib\\site-packages\\sklearn\\utils\\validation.py:63: DataConversionWarning: A column-vector y was passed when a 1d array was expected. Please change the shape of y to (n_samples, ), for example using ravel().\n",
      "  return f(*args, **kwargs)\n",
      "C:\\Users\\mrawe\\anaconda3\\envs\\TEST\\lib\\site-packages\\sklearn\\utils\\validation.py:63: DataConversionWarning: A column-vector y was passed when a 1d array was expected. Please change the shape of y to (n_samples, ), for example using ravel().\n",
      "  return f(*args, **kwargs)\n",
      "<ipython-input-24-8325976451a2>:5: DataConversionWarning: A column-vector y was passed when a 1d array was expected. Please change the shape of y to (n_samples,), for example using ravel().\n",
      "  rf.fit(trainDataFinal, y_train)\n"
     ]
    },
    {
     "data": {
      "text/plain": [
       "RandomForestClassifier()"
      ]
     },
     "execution_count": 24,
     "metadata": {},
     "output_type": "execute_result"
    }
   ],
   "source": [
    "lr.fit(trainDataFinal, y_train)\n",
    "dt.fit(trainDataFinal, y_train)\n",
    "bg.fit(trainDataFinal, y_train)\n",
    "adb.fit(trainDataFinal, y_train)\n",
    "rf.fit(trainDataFinal, y_train)"
   ]
  },
  {
   "cell_type": "code",
   "execution_count": 25,
   "id": "10561770",
   "metadata": {},
   "outputs": [],
   "source": [
    "airlineDataTestCat=x_test.select_dtypes(object)\n",
    "airlineDataTestNum=x_test.select_dtypes(np.number)"
   ]
  },
  {
   "cell_type": "code",
   "execution_count": 26,
   "id": "e2cacb18",
   "metadata": {},
   "outputs": [
    {
     "data": {
      "text/html": [
       "<div>\n",
       "<style scoped>\n",
       "    .dataframe tbody tr th:only-of-type {\n",
       "        vertical-align: middle;\n",
       "    }\n",
       "\n",
       "    .dataframe tbody tr th {\n",
       "        vertical-align: top;\n",
       "    }\n",
       "\n",
       "    .dataframe thead th {\n",
       "        text-align: right;\n",
       "    }\n",
       "</style>\n",
       "<table border=\"1\" class=\"dataframe\">\n",
       "  <thead>\n",
       "    <tr style=\"text-align: right;\">\n",
       "      <th></th>\n",
       "      <th>Gender</th>\n",
       "      <th>customer_type</th>\n",
       "      <th>type_of_travel</th>\n",
       "      <th>customer_class</th>\n",
       "    </tr>\n",
       "  </thead>\n",
       "  <tbody>\n",
       "    <tr>\n",
       "      <th>11788</th>\n",
       "      <td>Male</td>\n",
       "      <td>Loyal Customer</td>\n",
       "      <td>Business travel</td>\n",
       "      <td>Business</td>\n",
       "    </tr>\n",
       "    <tr>\n",
       "      <th>27136</th>\n",
       "      <td>Female</td>\n",
       "      <td>Loyal Customer</td>\n",
       "      <td>Personal Travel</td>\n",
       "      <td>Eco</td>\n",
       "    </tr>\n",
       "    <tr>\n",
       "      <th>58787</th>\n",
       "      <td>Male</td>\n",
       "      <td>disloyal Customer</td>\n",
       "      <td>Business travel</td>\n",
       "      <td>Eco</td>\n",
       "    </tr>\n",
       "    <tr>\n",
       "      <th>129552</th>\n",
       "      <td>Female</td>\n",
       "      <td>Loyal Customer</td>\n",
       "      <td>Business travel</td>\n",
       "      <td>Eco Plus</td>\n",
       "    </tr>\n",
       "    <tr>\n",
       "      <th>85768</th>\n",
       "      <td>Female</td>\n",
       "      <td>Loyal Customer</td>\n",
       "      <td>Business travel</td>\n",
       "      <td>Business</td>\n",
       "    </tr>\n",
       "    <tr>\n",
       "      <th>...</th>\n",
       "      <td>...</td>\n",
       "      <td>...</td>\n",
       "      <td>...</td>\n",
       "      <td>...</td>\n",
       "    </tr>\n",
       "    <tr>\n",
       "      <th>26652</th>\n",
       "      <td>Male</td>\n",
       "      <td>disloyal Customer</td>\n",
       "      <td>Business travel</td>\n",
       "      <td>Business</td>\n",
       "    </tr>\n",
       "    <tr>\n",
       "      <th>16168</th>\n",
       "      <td>Male</td>\n",
       "      <td>Loyal Customer</td>\n",
       "      <td>Business travel</td>\n",
       "      <td>Business</td>\n",
       "    </tr>\n",
       "    <tr>\n",
       "      <th>59220</th>\n",
       "      <td>Female</td>\n",
       "      <td>Loyal Customer</td>\n",
       "      <td>Personal Travel</td>\n",
       "      <td>Eco</td>\n",
       "    </tr>\n",
       "    <tr>\n",
       "      <th>31111</th>\n",
       "      <td>Male</td>\n",
       "      <td>Loyal Customer</td>\n",
       "      <td>Business travel</td>\n",
       "      <td>Business</td>\n",
       "    </tr>\n",
       "    <tr>\n",
       "      <th>111281</th>\n",
       "      <td>Male</td>\n",
       "      <td>Loyal Customer</td>\n",
       "      <td>Personal Travel</td>\n",
       "      <td>Eco</td>\n",
       "    </tr>\n",
       "  </tbody>\n",
       "</table>\n",
       "<p>25976 rows × 4 columns</p>\n",
       "</div>"
      ],
      "text/plain": [
       "        Gender      customer_type   type_of_travel customer_class\n",
       "11788     Male     Loyal Customer  Business travel       Business\n",
       "27136   Female     Loyal Customer  Personal Travel            Eco\n",
       "58787     Male  disloyal Customer  Business travel            Eco\n",
       "129552  Female     Loyal Customer  Business travel       Eco Plus\n",
       "85768   Female     Loyal Customer  Business travel       Business\n",
       "...        ...                ...              ...            ...\n",
       "26652     Male  disloyal Customer  Business travel       Business\n",
       "16168     Male     Loyal Customer  Business travel       Business\n",
       "59220   Female     Loyal Customer  Personal Travel            Eco\n",
       "31111     Male     Loyal Customer  Business travel       Business\n",
       "111281    Male     Loyal Customer  Personal Travel            Eco\n",
       "\n",
       "[25976 rows x 4 columns]"
      ]
     },
     "execution_count": 26,
     "metadata": {},
     "output_type": "execute_result"
    }
   ],
   "source": [
    "airlineDataTestCat"
   ]
  },
  {
   "cell_type": "code",
   "execution_count": 27,
   "id": "6eda35e4",
   "metadata": {},
   "outputs": [],
   "source": [
    "airlineDataTestCatEncoded=oneHot.transform(airlineDataTestCat).toarray()"
   ]
  },
  {
   "cell_type": "code",
   "execution_count": 28,
   "id": "61e9b3d3",
   "metadata": {},
   "outputs": [
    {
     "data": {
      "text/plain": [
       "age                                  0\n",
       "flight_distance                      0\n",
       "inflight_wifi_service                0\n",
       "departure_arrival_time_convenient    0\n",
       "ease_of_online_booking               0\n",
       "gate_location                        0\n",
       "food_and_drink                       0\n",
       "online_boarding                      0\n",
       "seat_comfort                         0\n",
       "inflight_entertainment               0\n",
       "onboard_service                      0\n",
       "leg_room_service                     0\n",
       "baggage_handling                     0\n",
       "checkin_service                      0\n",
       "inflight_service                     0\n",
       "cleanliness                          0\n",
       "departure_delay_in_minutes           0\n",
       "dtype: int64"
      ]
     },
     "execution_count": 28,
     "metadata": {},
     "output_type": "execute_result"
    }
   ],
   "source": [
    "airlineDataTestNum.isna().sum()"
   ]
  },
  {
   "cell_type": "code",
   "execution_count": 29,
   "id": "6b2ae346",
   "metadata": {},
   "outputs": [],
   "source": [
    "airlineDataTestNumScaled=minMax.transform(airlineDataTestNum)"
   ]
  },
  {
   "cell_type": "code",
   "execution_count": 30,
   "id": "e17ce469",
   "metadata": {},
   "outputs": [],
   "source": [
    "testDataFinal=np.concatenate([airlineDataTestCatEncoded,airlineDataTestNumScaled],axis=1)"
   ]
  },
  {
   "cell_type": "markdown",
   "id": "d843120a",
   "metadata": {},
   "source": [
    "# Processing Target Variable"
   ]
  },
  {
   "cell_type": "code",
   "execution_count": 31,
   "id": "ab23e046",
   "metadata": {},
   "outputs": [],
   "source": [
    "y_test=lb.fit_transform(y_test)"
   ]
  },
  {
   "cell_type": "markdown",
   "id": "d777783a",
   "metadata": {},
   "source": [
    "# Metrics"
   ]
  },
  {
   "cell_type": "code",
   "execution_count": 32,
   "id": "2d018fa4",
   "metadata": {},
   "outputs": [],
   "source": [
    "from sklearn.metrics import accuracy_score, precision_score, recall_score, f1_score"
   ]
  },
  {
   "cell_type": "code",
   "execution_count": 33,
   "id": "a07632af",
   "metadata": {},
   "outputs": [],
   "source": [
    "lrPredict = lr.predict(testDataFinal)\n",
    "dtPredict = dt.predict(testDataFinal)\n",
    "bgPredict = bg.predict(testDataFinal)\n",
    "adbPredict = adb.predict(testDataFinal)\n",
    "rfPredict = rf.predict(testDataFinal)"
   ]
  },
  {
   "cell_type": "code",
   "execution_count": 34,
   "id": "272f9673",
   "metadata": {},
   "outputs": [
    {
     "name": "stdout",
     "output_type": "stream",
     "text": [
      "0.872959655066215\n",
      "0.8385610490873648\n",
      "0.8649241454944252\n",
      "0.8515385999640094\n"
     ]
    }
   ],
   "source": [
    "print(accuracy_score(lrPredict, y_test))\n",
    "print(precision_score(lrPredict, y_test))\n",
    "print(recall_score(lrPredict, y_test))\n",
    "print(f1_score(lrPredict, y_test))"
   ]
  },
  {
   "cell_type": "code",
   "execution_count": 35,
   "id": "3cad0b90",
   "metadata": {},
   "outputs": [
    {
     "name": "stdout",
     "output_type": "stream",
     "text": [
      "0.9597320603634124\n",
      "0.9335459861775651\n",
      "0.9726735598227474\n",
      "0.9527082014648702\n"
     ]
    }
   ],
   "source": [
    "print(accuracy_score(bgPredict, y_test))\n",
    "print(precision_score(bgPredict, y_test))\n",
    "print(recall_score(bgPredict, y_test))\n",
    "print(f1_score(bgPredict, y_test))"
   ]
  },
  {
   "cell_type": "code",
   "execution_count": 36,
   "id": "00d94145",
   "metadata": {},
   "outputs": [
    {
     "name": "stdout",
     "output_type": "stream",
     "text": [
      "0.9267400677548506\n",
      "0.9053694843168527\n",
      "0.9244548991224102\n",
      "0.9148126594744618\n"
     ]
    }
   ],
   "source": [
    "print(accuracy_score(adbPredict, y_test))\n",
    "print(precision_score(adbPredict, y_test))\n",
    "print(recall_score(adbPredict, y_test))\n",
    "print(f1_score(adbPredict, y_test))"
   ]
  },
  {
   "cell_type": "code",
   "execution_count": 37,
   "id": "23297ee9",
   "metadata": {},
   "outputs": [
    {
     "name": "stdout",
     "output_type": "stream",
     "text": [
      "0.9629658145980905\n",
      "0.9430267588162325\n",
      "0.9708994708994709\n",
      "0.956760158216469\n"
     ]
    }
   ],
   "source": [
    "print(accuracy_score(rfPredict, y_test))\n",
    "print(precision_score(rfPredict, y_test))\n",
    "print(recall_score(rfPredict, y_test))\n",
    "print(f1_score(rfPredict, y_test))"
   ]
  },
  {
   "cell_type": "code",
   "execution_count": null,
   "id": "3a09ca58",
   "metadata": {},
   "outputs": [],
   "source": []
  }
 ],
 "metadata": {
  "kernelspec": {
   "display_name": "TEST",
   "language": "python",
   "name": "test"
  },
  "language_info": {
   "codemirror_mode": {
    "name": "ipython",
    "version": 3
   },
   "file_extension": ".py",
   "mimetype": "text/x-python",
   "name": "python",
   "nbconvert_exporter": "python",
   "pygments_lexer": "ipython3",
   "version": "3.8.8"
  }
 },
 "nbformat": 4,
 "nbformat_minor": 5
}
